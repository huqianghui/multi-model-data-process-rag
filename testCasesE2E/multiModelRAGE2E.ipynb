{
 "cells": [
  {
   "cell_type": "code",
   "execution_count": null,
   "metadata": {},
   "outputs": [],
   "source": [
    "import logging\n",
    "import os\n",
    "import nest_asyncio\n",
    "\n",
    "nest_asyncio.apply()\n",
    "\n",
    "\n",
    "from dotenv import load_dotenv\n",
    "from openai import AsyncAzureOpenAI\n",
    "\n",
    "logging.basicConfig(level=logging.INFO, format='%(asctime)s - %(levelname)s - %(message)s')\n",
    "\n",
    "load_dotenv(verbose=True)\n",
    "\n",
    "api_base = os.getenv(\"AZURE_OPENAI_ENDPOINT\")\n",
    "api_key= os.getenv(\"AZURE_OPENAI_API_KEY\")\n",
    "deployment_name = 'gpt-4o'\n",
    "api_version = '2024-02-15-preview' # this might change in the future\n",
    "\n",
    "aAzureOpenclient =  AsyncAzureOpenAI(\n",
    "        api_key=api_key,  \n",
    "        api_version=api_version,\n",
    "        base_url=f\"{api_base}/openai/deployments/{deployment_name}\"\n",
    "    )"
   ]
  },
  {
   "cell_type": "markdown",
   "metadata": {},
   "source": [
    "\n"
   ]
  },
  {
   "cell_type": "code",
   "execution_count": null,
   "metadata": {},
   "outputs": [],
   "source": [
    "systemPrompt = { \"role\": \n",
    "                        \"system\", \n",
    "                \"content\": '''\n",
    "                            You are a helpful assistant and you are a good video player. \n",
    "                            You know teh video games very well. You can give professional answer about video game's questions or screenshots. \n",
    "                            But you have answer the question or screenshot or enrich the content based on the given context and images.\n",
    "                            The context format is a list which contain a few  like this:\n",
    "                            \n",
    "                            context1：\n",
    "                                \"caption\": \"The caption of the image\",\n",
    "                                \"content\": \"The content of the image\",\n",
    "                                \"ocrContent\": \"The ocr content of the image\"\n",
    "                                \"images\": \"https://url1\"\n",
    "\n",
    "                            -----\n",
    "                            context2：\n",
    "                                \"caption\": \"The caption of the image\",\n",
    "                                \"content\": \"The content of the image\",\n",
    "                                \"ocrContent\": \"The ocr content of the image\"\n",
    "                                \"images\": \"https://url2\"\n",
    "\n",
    "                            -----\n",
    "                            context3：\n",
    "                                \"caption\": \"The caption of the image\",\n",
    "                                \"content\": \"The content of the image\",\n",
    "                                \"ocrContent\": \"The ocr content of the image\"\n",
    "                                \"images\": \"https://url3\"\n",
    "                                \n",
    "                            You can use the caption,content and ocrContent to answer the question if they are related to the question.\n",
    "                            And if you choose them to answer the question, you should return the related images url.\n",
    "                            The response should be json format, have two parts: answer and related images url.\n",
    "                            like this:\n",
    "                            {\n",
    "                                \"answer\": \"The answer of the question\",\n",
    "                                \"images\": [\"https://url1\", \"https://url2\"]\n",
    "                            }\n",
    "                        ''' \n",
    "                }\n"
   ]
  },
  {
   "cell_type": "code",
   "execution_count": 37,
   "metadata": {},
   "outputs": [],
   "source": [
    "import sys\n",
    "\n",
    "# 假设 multiModelsEmbedding.py 文件在项目的根目录\n",
    "sys.path.append(os.path.abspath(\"/Users/huqianghui/Downloads/git_temp/multi-model-data-process/\"))\n",
    "\n",
    "\n",
    "from search_utils import get_search_results_by_image_and_text,get_search_results_by_text,get_search_results_by_image"
   ]
  },
  {
   "cell_type": "markdown",
   "metadata": {},
   "source": [
    "##### query text only"
   ]
  },
  {
   "cell_type": "code",
   "execution_count": null,
   "metadata": {},
   "outputs": [],
   "source": [
    "queryText = \"DNF手游伤害为什么是黄字？\""
   ]
  },
  {
   "cell_type": "code",
   "execution_count": 39,
   "metadata": {},
   "outputs": [
    {
     "name": "stderr",
     "output_type": "stream",
     "text": [
      "2024-08-28 12:56:16,383 - INFO - HTTP Request: POST https://openai-hu-non-product-test.openai.azure.com//openai/deployments/text-embedding-ada-002/embeddings?api-version=2024-02-01 \"HTTP/1.1 200 OK\"\n",
      "2024-08-28 12:56:16,384 - INFO - Getting text embedding for DNF手游伤害为什么是黄字？\n",
      "2024-08-28 12:56:17,725 - INFO - Request URL: 'https://ai-search-hu-west-us-3.search.windows.net/indexes('multi-model-index-zh-cn')/docs/search.post.search?api-version=REDACTED'\n",
      "Request method: 'POST'\n",
      "Request headers:\n",
      "    'Content-Type': 'application/json'\n",
      "    'Content-Length': '48866'\n",
      "    'api-key': 'REDACTED'\n",
      "    'Accept': 'application/json;odata.metadata=none'\n",
      "    'x-ms-client-request-id': 'dc4a2906-64f9-11ef-b95b-aee50117d95a'\n",
      "    'User-Agent': 'azsdk-python-search-documents/11.6.0b4 Python/3.11.9 (macOS-14.6.1-arm64-arm-64bit)'\n",
      "A body is sent with the request\n",
      "2024-08-28 12:56:19,594 - INFO - Response status: 200\n",
      "Response headers:\n",
      "    'Transfer-Encoding': 'chunked'\n",
      "    'Content-Type': 'application/json; odata.metadata=none; odata.streaming=true; charset=utf-8'\n",
      "    'Content-Encoding': 'REDACTED'\n",
      "    'Vary': 'REDACTED'\n",
      "    'Server': 'Microsoft-IIS/10.0'\n",
      "    'Strict-Transport-Security': 'REDACTED'\n",
      "    'Preference-Applied': 'REDACTED'\n",
      "    'OData-Version': 'REDACTED'\n",
      "    'request-id': 'dc4a2906-64f9-11ef-b95b-aee50117d95a'\n",
      "    'elapsed-time': 'REDACTED'\n",
      "    'Date': 'Wed, 28 Aug 2024 04:56:19 GMT'\n",
      "2024-08-28 12:56:22,975 - INFO - HTTP Request: POST https://openai-hu-non-product-test.openai.azure.com//openai/deployments/gpt-4o/chat/completions?api-version=2024-02-15-preview \"HTTP/1.1 200 OK\"\n"
     ]
    },
    {
     "data": {
      "text/markdown": [
       "**Answer:**\n",
       "\n",
       "在DNF手游中，'黄字'伤害代表的是你的主攻击力增加后的伤害值。根据context1的信息，'n%伤害 攻击增加伤害' 这种词条会让你的攻击力增加n%，并显示在主伤害里面。例如，如果你的攻击力是100，增加5%的伤害，你的主伤害就会变成105。这种类型的伤害会显示为黄字。"
      ],
      "text/plain": [
       "<IPython.core.display.Markdown object>"
      ]
     },
     "metadata": {},
     "output_type": "display_data"
    },
    {
     "data": {
      "text/html": [
       "<img src=\"https://img2.tapimg.com/moment/etag/FvhNYMQT78nnCjAvBqHvY40FcH46.jpeg\"/>"
      ],
      "text/plain": [
       "<IPython.core.display.Image object>"
      ]
     },
     "metadata": {},
     "output_type": "display_data"
    }
   ],
   "source": [
    "results = await get_search_results_by_text(queryText)\n",
    "\n",
    "conext = \"\"\n",
    "for i, result in enumerate(results, start=1):\n",
    "    conext += f\"context{i}：\\n\\n\"\n",
    "    conext += f\"caption:\\n{result['caption']}\\n\\n\"\n",
    "    conext += f\"content:\\n{result['content']}\\n\\n\"\n",
    "    conext += f\"ocrContent:\\n{result['ocrContent']}\\n\\n\"\n",
    "    conext += f\"imageUrl:\\n{result['imageUrl']}\\n\\n\"\n",
    "    conext += \"-------\\n\\n\"\n",
    "\n",
    "userPrompt = ''' user question is : {queryText} \n",
    "\n",
    "                answer the question based the context: {context}\n",
    "'''.format(queryText=queryText,context=conext)\n",
    "\n",
    "response = await aAzureOpenclient.chat.completions.create(\n",
    "        model=deployment_name,\n",
    "        response_format={ \"type\": \"json_object\" },\n",
    "        messages=[\n",
    "            systemPrompt,\n",
    "            { \"role\": \"user\", \"content\": [  \n",
    "                { \n",
    "                    \"type\": \"text\", \n",
    "                    \"text\": userPrompt\n",
    "                }\n",
    "            ] } \n",
    "        ],\n",
    "        max_tokens=800 \n",
    "    )\n",
    "\n",
    "result = response.choices[0].message.content\n",
    "\n",
    "from IPython.display import display, Image, Markdown\n",
    "import json\n",
    "\n",
    "resultDict = json.loads(result)\n",
    "answer = resultDict['answer']\n",
    "image_urls = resultDict['images']\n",
    "\n",
    "# 显示答案文本\n",
    "display(Markdown(f\"**Answer:**\\n\\n{answer}\"))\n",
    "\n",
    "# 显示图像\n",
    "for url in image_urls:\n",
    "    display(Image(url=url))\n"
   ]
  },
  {
   "cell_type": "markdown",
   "metadata": {},
   "source": [
    "#### query text & image"
   ]
  },
  {
   "cell_type": "code",
   "execution_count": null,
   "metadata": {},
   "outputs": [],
   "source": [
    "queryText = \"DNF手游伤害为什么是黄字？\"\n",
    "picture_url = \"https://img2.tapimg.com/moment/etag/FvhNYMQT78nnCjAvBqHvY40FcH46.jpeg\""
   ]
  },
  {
   "cell_type": "markdown",
   "metadata": {},
   "source": [
    "#### 从 AI Search 获取到相关内容，组装成prompt里面的context"
   ]
  },
  {
   "cell_type": "code",
   "execution_count": null,
   "metadata": {},
   "outputs": [],
   "source": [
    "\n",
    "results = await get_search_results_by_image_and_text(picture_url,queryText)\n",
    "\n",
    "conext = \"\"\n",
    "for i, result in enumerate(results, start=1):\n",
    "    conext += f\"context{i}：\\n\\n\"\n",
    "    conext += f\"caption:\\n{result['caption']}\\n\\n\"\n",
    "    conext += f\"content:\\n{result['content']}\\n\\n\"\n",
    "    conext += f\"ocrContent:\\n{result['ocrContent']}\\n\\n\"\n",
    "    conext += f\"imageUrl:\\n{result['imageUrl']}\\n\\n\"\n",
    "    conext += \"-------\\n\\n\""
   ]
  },
  {
   "cell_type": "code",
   "execution_count": null,
   "metadata": {},
   "outputs": [],
   "source": [
    "userPrompt = ''' user question is : {queryText} \n",
    "                and with the image.\n",
    "\n",
    "                answer the question based context is : {context}\n",
    "'''.format(queryText=queryText,context=conext)"
   ]
  },
  {
   "cell_type": "code",
   "execution_count": 36,
   "metadata": {},
   "outputs": [
    {
     "name": "stderr",
     "output_type": "stream",
     "text": [
      "2024-08-28 12:52:56,471 - INFO - HTTP Request: POST https://openai-hu-non-product-test.openai.azure.com//openai/deployments/gpt-4o/chat/completions?api-version=2024-02-15-preview \"HTTP/1.1 200 OK\"\n"
     ]
    },
    {
     "name": "stdout",
     "output_type": "stream",
     "text": [
      "{\n",
      "    \"answer\": \"在DNF手游中，增加伤害的词条（n%伤害增加）显示为黄色，因为这种增加伤害会直接加到你的主伤害中。例如，如果你的攻击力是100，加上5%的伤害增加，那么你的攻击力就会变成105，这就是所谓的黄字显示。相对于增加伤害的词条，还有一种“攻击时附加n属性伤害”的词条，这类词条显示为白字，因为其附加的属性伤害会在主伤害条下显示，不直接加到主伤害中。\",\n",
      "    \"images\": [\"https://img2.tapimg.com/moment/etag/FvhNYMQT78nnCjAvBqHvY40FcH46.jpeg\"]\n",
      "}\n"
     ]
    }
   ],
   "source": [
    "response = await aAzureOpenclient.chat.completions.create(\n",
    "        model=deployment_name,\n",
    "        response_format={ \"type\": \"json_object\" },\n",
    "        messages=[\n",
    "            systemPrompt,\n",
    "            { \"role\": \"user\", \"content\": [  \n",
    "                { \n",
    "                    \"type\": \"text\", \n",
    "                    \"text\": userPrompt\n",
    "                },\n",
    "                { \n",
    "                    \"type\": \"image_url\",\n",
    "                    \"image_url\": {\n",
    "                        \"url\": picture_url\n",
    "                    }\n",
    "                }\n",
    "            ] } \n",
    "        ],\n",
    "        max_tokens=800 \n",
    "    )\n",
    "\n",
    "result = response.choices[0].message.content\n",
    "print(result)"
   ]
  },
  {
   "cell_type": "code",
   "execution_count": 40,
   "metadata": {},
   "outputs": [
    {
     "data": {
      "text/markdown": [
       "**Answer:**\n",
       "\n",
       "在DNF手游中，'黄字'伤害代表的是你的主攻击力增加后的伤害值。根据context1的信息，'n%伤害 攻击增加伤害' 这种词条会让你的攻击力增加n%，并显示在主伤害里面。例如，如果你的攻击力是100，增加5%的伤害，你的主伤害就会变成105。这种类型的伤害会显示为黄字。"
      ],
      "text/plain": [
       "<IPython.core.display.Markdown object>"
      ]
     },
     "metadata": {},
     "output_type": "display_data"
    },
    {
     "data": {
      "text/html": [
       "<img src=\"https://img2.tapimg.com/moment/etag/FvhNYMQT78nnCjAvBqHvY40FcH46.jpeg\"/>"
      ],
      "text/plain": [
       "<IPython.core.display.Image object>"
      ]
     },
     "metadata": {},
     "output_type": "display_data"
    }
   ],
   "source": [
    "from IPython.display import display, Image, Markdown\n",
    "import json\n",
    "\n",
    "resultDict = json.loads(result)\n",
    "answer = resultDict['answer']\n",
    "image_urls = resultDict['images']\n",
    "\n",
    "# 显示答案文本\n",
    "display(Markdown(f\"**Answer:**\\n\\n{answer}\"))\n",
    "\n",
    "# 显示图像\n",
    "for url in image_urls:\n",
    "    display(Image(url=url))"
   ]
  }
 ],
 "metadata": {
  "kernelspec": {
   "display_name": ".venv",
   "language": "python",
   "name": "python3"
  },
  "language_info": {
   "codemirror_mode": {
    "name": "ipython",
    "version": 3
   },
   "file_extension": ".py",
   "mimetype": "text/x-python",
   "name": "python",
   "nbconvert_exporter": "python",
   "pygments_lexer": "ipython3",
   "version": "3.11.9"
  }
 },
 "nbformat": 4,
 "nbformat_minor": 2
}
